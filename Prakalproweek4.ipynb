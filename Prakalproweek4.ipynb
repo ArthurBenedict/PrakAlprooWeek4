{
 "cells": [
  {
   "cell_type": "code",
   "execution_count": 1,
   "metadata": {},
   "outputs": [
    {
     "name": "stdout",
     "output_type": "stream",
     "text": [
      "False\n"
     ]
    }
   ],
   "source": [
    "#Soal 1\n",
    "def cek_angka(A,B,C):\n",
    "    if A!=B and B!=C and C!=A:\n",
    "        if A+B==C or B+C==A or C+A==B:\n",
    "            return True\n",
    "        return False\n",
    "    if A==B or B==C or C==A:\n",
    "        return False\n",
    "    \n",
    "A = int(input('Masukkan A : '))\n",
    "B = int(input('Masukkan B : '))\n",
    "C = int(input('Masukkan C : '))\n",
    "\n",
    "print(cek_angka(A,B,C))"
   ]
  },
  {
   "cell_type": "code",
   "execution_count": 3,
   "metadata": {},
   "outputs": [
    {
     "name": "stdout",
     "output_type": "stream",
     "text": [
      "False\n"
     ]
    }
   ],
   "source": [
    "#Soal 2\n",
    "def cek_digit_paling_kanan(A,B,C):\n",
    "    A = A % 10\n",
    "    B = B % 10\n",
    "    C = C % 10\n",
    "\n",
    "    if A==B or B==C or C==A:\n",
    "        return True\n",
    "    else:\n",
    "        return False\n",
    "\n",
    "A = int(input('Masukkan A = '))\n",
    "B = int(input('Masukkan B = '))\n",
    "C = int(input('Masukkan C = '))\n",
    "\n",
    "print(cek_digit_paling_kanan(A,B,C))"
   ]
  },
  {
   "cell_type": "code",
   "execution_count": 6,
   "metadata": {},
   "outputs": [
    {
     "name": "stdout",
     "output_type": "stream",
     "text": [
      "pilih tujuan konversi\n",
      "1 = fahrenheit\n",
      "2 = reamur\n",
      "input C = 35. output F = 95.0.\n"
     ]
    }
   ],
   "source": [
    "r = lambda c: 0.8 * c\n",
    "f = lambda c: (9 / 5) * c + 32\n",
    "\n",
    "def pilih_konversi():\n",
    "    print('pilih tujuan konversi')\n",
    "    print('1 = fahrenheit')\n",
    "    print('2 = reamur')\n",
    "    pilih = (input('pilih tujuan konversi yang tersedia pada no 1 atau 2: '))\n",
    "    return int(pilih)\n",
    "c = int(input('tentukan suhu celcius: '))\n",
    "\n",
    "pilih_konversi = pilih_konversi()\n",
    "\n",
    "if pilih_konversi == 1:\n",
    "    output= f(c)\n",
    "    print('input C = {}. output F = {}.'.format(c, output))\n",
    "elif pilih_konversi == 2:\n",
    "    output= r(c)\n",
    "    print('input C = {}. output R = {}.'.format(c, output))"
   ]
  }
 ],
 "metadata": {
  "kernelspec": {
   "display_name": "Python 3",
   "language": "python",
   "name": "python3"
  },
  "language_info": {
   "codemirror_mode": {
    "name": "ipython",
    "version": 3
   },
   "file_extension": ".py",
   "mimetype": "text/x-python",
   "name": "python",
   "nbconvert_exporter": "python",
   "pygments_lexer": "ipython3",
   "version": "3.12.0"
  }
 },
 "nbformat": 4,
 "nbformat_minor": 2
}
